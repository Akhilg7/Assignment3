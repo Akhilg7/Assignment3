{
  "nbformat": 4,
  "nbformat_minor": 0,
  "metadata": {
    "colab": {
      "name": "Assignment3.ipynb",
      "provenance": [],
      "collapsed_sections": []
    },
    "kernelspec": {
      "name": "python3",
      "display_name": "Python 3"
    },
    "language_info": {
      "name": "python"
    }
  },
  "cells": [
    {
      "cell_type": "markdown",
      "metadata": {
        "id": "ghgMoql-XC5p"
      },
      "source": [
        "1.1 Write a Python Program to implement your own myreduce() function which works exactly  like Python's built-in function reduce() "
      ]
    },
    {
      "cell_type": "code",
      "metadata": {
        "colab": {
          "base_uri": "https://localhost:8080/"
        },
        "id": "nra1WsriJWUn",
        "outputId": "b5769125-c53d-418b-eb20-56caf0b106f8"
      },
      "source": [
        "def myreduce(func,l):\n",
        "  a=l[0]\n",
        "  for i in range(1,len(l)):\n",
        "    b=l[i]\n",
        "    a=func(a,b)\n",
        "  return a\n",
        "\n",
        "def add(a,b):\n",
        "  return a+b\n",
        "\n",
        "def sub(a,b):\n",
        "  return a-b\n",
        "\n",
        "def mul(a,b):\n",
        "  return a*b\n",
        "\n",
        "l=eval(input(\"Enter the list:\"))\n",
        "r=myreduce(lambda a,b:a*b,l)\n",
        "print(r)\n",
        "\n"
      ],
      "execution_count": 1,
      "outputs": [
        {
          "output_type": "stream",
          "text": [
            "Enter the list:[1,2,3,4,5]\n",
            "120\n"
          ],
          "name": "stdout"
        }
      ]
    },
    {
      "cell_type": "markdown",
      "metadata": {
        "id": "3P_o-IE8VQKU"
      },
      "source": [
        "1.2 Write a Python program to implement your own myfilter() function which works exactly  like Python's built-in function filter() "
      ]
    },
    {
      "cell_type": "code",
      "metadata": {
        "colab": {
          "base_uri": "https://localhost:8080/"
        },
        "id": "lUdJKAMkVO5R",
        "outputId": "0f48474c-5bbe-458c-9ff2-f44ea9b0d334"
      },
      "source": [
        "def myfilter(func,l):\n",
        "  list=[]\n",
        "  for i in l:\n",
        "    a=func(i)\n",
        "    if a is not None:\n",
        "      list.append(a)\n",
        "  return list\n",
        "\n",
        "\n",
        "def iseven(l):\n",
        "  if l%2 ==0:\n",
        "    return l\n",
        "\n",
        "def isodd(l):\n",
        "  if l%2!=0:\n",
        "    return l\n",
        "\n",
        "l=[1,2,3,4,5,6]\n",
        "l=myfilter(iseven,l)\n",
        "print(l)"
      ],
      "execution_count": 2,
      "outputs": [
        {
          "output_type": "stream",
          "text": [
            "[2, 4, 6]\n"
          ],
          "name": "stdout"
        }
      ]
    },
    {
      "cell_type": "markdown",
      "metadata": {
        "id": "VAiLC7NYNnUm"
      },
      "source": [
        "2. Implement List comprehensions to produce the following lists.  \n",
        "Write List comprehensions to produce the following Lists \n"
      ]
    },
    {
      "cell_type": "markdown",
      "metadata": {
        "id": "ZK7rpdgDlPq-"
      },
      "source": [
        "['x', 'xx', 'xxx', 'xxxx', 'y', 'yy', 'yyy', 'yyyy', 'z', 'zz', 'zzz', 'zzzz']  "
      ]
    },
    {
      "cell_type": "code",
      "metadata": {
        "colab": {
          "base_uri": "https://localhost:8080/"
        },
        "id": "KdM4FJ0NNl7f",
        "outputId": "dc45e825-d3e5-4bec-a3f0-adc728dd4edb"
      },
      "source": [
        "l=['x','y','z']\n",
        "\n",
        "#1st approach\n",
        "\n",
        "#we have taken an empty list to append the result\n",
        "s=[]\n",
        "\n",
        "#outer loop\n",
        "for i in l:\n",
        "  #inner loop runs from 1 to 4\n",
        "  for j in range(1,5):\n",
        "    #adding the result in the list\n",
        "    s.append(i*j)\n",
        "print(s)\n",
        "\n",
        "#2nd approach\n",
        "r=[i*j for i in l for j in range(1,5)]\n",
        "print(r)"
      ],
      "execution_count": 15,
      "outputs": [
        {
          "output_type": "stream",
          "text": [
            "['x', 'xx', 'xxx', 'xxxx', 'y', 'yy', 'yyy', 'yyyy', 'z', 'zz', 'zzz', 'zzzz']\n",
            "['x', 'xx', 'xxx', 'xxxx', 'y', 'yy', 'yyy', 'yyyy', 'z', 'zz', 'zzz', 'zzzz']\n"
          ],
          "name": "stdout"
        }
      ]
    },
    {
      "cell_type": "markdown",
      "metadata": {
        "id": "S6WXP1swlXFk"
      },
      "source": [
        "['x', 'y', 'z', 'xx', 'yy', 'zz', 'xxx', 'yyy', 'zzz', 'xxxx', 'yyyy', 'zzzz']  "
      ]
    },
    {
      "cell_type": "code",
      "metadata": {
        "colab": {
          "base_uri": "https://localhost:8080/"
        },
        "id": "iKYswDF2V_UH",
        "outputId": "353ef476-37a1-4920-a4b1-386ca1845e11"
      },
      "source": [
        "l=['x','y','z']\n",
        "s=[]\n",
        "for i in range(1,5):\n",
        "  for j in l:\n",
        "    s.append(j*i)\n",
        "print(s)\n",
        "\n",
        "#2nd approach\n",
        "r=[i*j for i in range(1,5) for j in l]\n",
        "print(r)"
      ],
      "execution_count": 18,
      "outputs": [
        {
          "output_type": "stream",
          "text": [
            "['x', 'y', 'z', 'xx', 'yy', 'zz', 'xxx', 'yyy', 'zzz', 'xxxx', 'yyyy', 'zzzz']\n",
            "['x', 'y', 'z', 'xx', 'yy', 'zz', 'xxx', 'yyy', 'zzz', 'xxxx', 'yyyy', 'zzzz']\n"
          ],
          "name": "stdout"
        }
      ]
    },
    {
      "cell_type": "markdown",
      "metadata": {
        "id": "8Tt6TRtKpqHV"
      },
      "source": [
        "[[2], [3], [4], [3], [4], [5], [4], [5], [6]]"
      ]
    },
    {
      "cell_type": "code",
      "metadata": {
        "colab": {
          "base_uri": "https://localhost:8080/"
        },
        "id": "EYvCGlGNZpAp",
        "outputId": "f8975068-ee64-43ce-b435-0cdc39adf377"
      },
      "source": [
        "#1st approach\n",
        "s=[]\n",
        "for i in range(3):\n",
        "  for j in range(3):\n",
        "    l=[i+j+2]\n",
        "    s.append(l)\n",
        "print(s)\n",
        "\n",
        "#2nd approach\n",
        "r=[[i+j+2] for i in range(3) for j in range(3)]\n",
        "print(r)"
      ],
      "execution_count": 29,
      "outputs": [
        {
          "output_type": "stream",
          "text": [
            "[[2], [3], [4], [3], [4], [5], [4], [5], [6]]\n",
            "[[2], [3], [4], [3], [4], [5], [4], [5], [6]]\n"
          ],
          "name": "stdout"
        }
      ]
    },
    {
      "cell_type": "markdown",
      "metadata": {
        "id": "eTZFOuDZp3N_"
      },
      "source": [
        "[[2, 3, 4, 5], [3, 4, 5, 6],  [4, 5, 6, 7], [5, 6, 7, 8]] \n"
      ]
    },
    {
      "cell_type": "code",
      "metadata": {
        "colab": {
          "base_uri": "https://localhost:8080/"
        },
        "id": "oJ14c5xGcQBa",
        "outputId": "0ae24911-e5bb-44f7-93aa-4b62fafc3a72"
      },
      "source": [
        "#1st approach\n",
        "s=[]\n",
        "for i in range(4):\n",
        "  r=[]\n",
        "  for j in range(4):\n",
        "    r.append(i+j+2)\n",
        "  s.append(r)\n",
        "  del r\n",
        "print(s)\n",
        "\n",
        "#2nd approach\n",
        "r=[[i+j+2 for i in range(4)]for j in range(4)]\n",
        "print(r)"
      ],
      "execution_count": 49,
      "outputs": [
        {
          "output_type": "stream",
          "text": [
            "[[2, 3, 4, 5], [3, 4, 5, 6], [4, 5, 6, 7], [5, 6, 7, 8]]\n",
            "[[2, 3, 4, 5], [3, 4, 5, 6], [4, 5, 6, 7], [5, 6, 7, 8]]\n"
          ],
          "name": "stdout"
        }
      ]
    },
    {
      "cell_type": "markdown",
      "metadata": {
        "id": "TyOBeztWqGIw"
      },
      "source": [
        "[(1, 1), (2, 1), (3, 1), (1, 2), (2, 2), (3, 2), (1, 3), (2, 3), (3, 3)]"
      ]
    },
    {
      "cell_type": "code",
      "metadata": {
        "colab": {
          "base_uri": "https://localhost:8080/"
        },
        "id": "HNLQ68xIW5W9",
        "outputId": "e6331f3e-dd86-4f79-9e99-9afad7f57c79"
      },
      "source": [
        "#1st approach\n",
        "s=[]\n",
        "for i in range(1,4):\n",
        "  for j in range(1,4):\n",
        "    s.append((j,i))\n",
        "print(s)\n",
        "\n",
        "#2nd approach\n",
        "r=[(j,i) for i in range(1,4) for j in range(1,4)]\n",
        "print(r)"
      ],
      "execution_count": 21,
      "outputs": [
        {
          "output_type": "stream",
          "text": [
            "[(1, 1), (2, 1), (3, 1), (1, 2), (2, 2), (3, 2), (1, 3), (2, 3), (3, 3)]\n",
            "[(1, 1), (2, 1), (3, 1), (1, 2), (2, 2), (3, 2), (1, 3), (2, 3), (3, 3)]\n"
          ],
          "name": "stdout"
        }
      ]
    }
  ]
}